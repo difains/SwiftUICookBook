{
  "nbformat": 4,
  "nbformat_minor": 0,
  "metadata": {
    "colab": {
      "name": "basic01_데이터 타입.ipynb",
      "provenance": [],
      "collapsed_sections": [],
      "include_colab_link": true
    },
    "kernelspec": {
      "name": "python3",
      "display_name": "Python 3"
    },
    "language_info": {
      "name": "python"
    }
  },
  "cells": [
    {
      "cell_type": "markdown",
      "metadata": {
        "id": "view-in-github",
        "colab_type": "text"
      },
      "source": [
        "<a href=\"https://colab.research.google.com/github/difains/SwiftUICookBook/blob/master/basic01_%E1%84%83%E1%85%A6%E1%84%8B%E1%85%B5%E1%84%90%E1%85%A5_%E1%84%90%E1%85%A1%E1%84%8B%E1%85%B5%E1%86%B8.ipynb\" target=\"_parent\"><img src=\"https://colab.research.google.com/assets/colab-badge.svg\" alt=\"Open In Colab\"/></a>"
      ]
    },
    {
      "cell_type": "markdown",
      "metadata": {
        "id": "pWx_CKNqAGdM"
      },
      "source": [
        "# 데이터 타입\n",
        " - 데이터 타입과 값\n",
        " - 변수에 값 넣기\n",
        " - 변수값 출력하기\n",
        " - type 변환하기"
      ]
    },
    {
      "cell_type": "markdown",
      "metadata": {
        "id": "LpQNeThUt8fK"
      },
      "source": [
        "##1. Hello, World를 출력해 봅니다."
      ]
    },
    {
      "cell_type": "code",
      "metadata": {
        "colab": {
          "base_uri": "https://localhost:8080/"
        },
        "id": "C30BVzbltz6t",
        "outputId": "cc51fc9f-c877-4021-9e27-1a5ee14e228d"
      },
      "source": [
        "print(\"Hello World\")"
      ],
      "execution_count": 1,
      "outputs": [
        {
          "output_type": "stream",
          "name": "stdout",
          "text": [
            "Hello World\n"
          ]
        }
      ]
    },
    {
      "cell_type": "markdown",
      "metadata": {
        "id": "3WaM8g7OuITY"
      },
      "source": [
        "##2. 데이터 타입과 값"
      ]
    },
    {
      "cell_type": "markdown",
      "metadata": {
        "id": "xjYXkjjJmpzT"
      },
      "source": [
        "**파이썬에는 숫자, 문자, 불리언(Boolean)타입 3가지가 있습니다.**\n",
        " - 숫자는 int(정수형)과 float(실수형), complex(복소수) 3가지가 있습니다.\n",
        " - 문자열은 작은 따옴표(')나 큰 따옴표(\")를 이용해서 만듭니다. 연산기호도 숫자와 다르게 적용되고, 문자열을 쉽게 편집할 수 있는 함수들이 제공됩니다.\n",
        " - 불리언은 True, False값을 가지며 참, 거짓을 의미합니다. 조건문에서 많이 사용됩니다."
      ]
    },
    {
      "cell_type": "markdown",
      "metadata": {
        "id": "nQLtclcn6ge8"
      },
      "source": [
        "**appendix**: 파이썬 기초 개념 - 변수와 함수 알아보기(https://aplab.tistory.com/31)"
      ]
    },
    {
      "cell_type": "markdown",
      "metadata": {
        "id": "bHSOwY5a5_aZ"
      },
      "source": [
        "#### 숫자"
      ]
    },
    {
      "cell_type": "code",
      "metadata": {
        "id": "ZmKukTFruCYB",
        "colab": {
          "base_uri": "https://localhost:8080/"
        },
        "outputId": "8f833c07-c0ea-47c1-f08a-e3b0e0d4c887"
      },
      "source": [
        "2"
      ],
      "execution_count": null,
      "outputs": [
        {
          "output_type": "execute_result",
          "data": {
            "text/plain": [
              "2"
            ]
          },
          "metadata": {},
          "execution_count": 6
        }
      ]
    },
    {
      "cell_type": "code",
      "metadata": {
        "id": "Pk_BLxYDA59E"
      },
      "source": [
        "a = 2"
      ],
      "execution_count": null,
      "outputs": []
    },
    {
      "cell_type": "code",
      "source": [
        "a"
      ],
      "metadata": {
        "colab": {
          "base_uri": "https://localhost:8080/"
        },
        "id": "MoFV_A4NoXUg",
        "outputId": "c5d05479-93c6-4cca-c4ff-ec3228ce6dfe"
      },
      "execution_count": null,
      "outputs": [
        {
          "output_type": "execute_result",
          "data": {
            "text/plain": [
              "2"
            ]
          },
          "metadata": {},
          "execution_count": 8
        }
      ]
    },
    {
      "cell_type": "code",
      "metadata": {
        "colab": {
          "base_uri": "https://localhost:8080/"
        },
        "id": "KxEndfg6uSCp",
        "outputId": "e1e83aea-98b4-4f53-9fe4-aa5d1f3c2041"
      },
      "source": [
        "type(a)"
      ],
      "execution_count": 8,
      "outputs": [
        {
          "output_type": "execute_result",
          "data": {
            "text/plain": [
              "int"
            ]
          },
          "metadata": {},
          "execution_count": 8
        }
      ]
    },
    {
      "cell_type": "code",
      "metadata": {
        "id": "p_yKLbCfuXSk"
      },
      "source": [
        "b = 1.23123"
      ],
      "execution_count": 10,
      "outputs": []
    },
    {
      "cell_type": "code",
      "metadata": {
        "colab": {
          "base_uri": "https://localhost:8080/"
        },
        "id": "P-1kLPViuZUF",
        "outputId": "fc47ff54-08f4-45ae-b9f6-4a44b228501e"
      },
      "source": [
        "type(b)"
      ],
      "execution_count": 11,
      "outputs": [
        {
          "output_type": "execute_result",
          "data": {
            "text/plain": [
              "float"
            ]
          },
          "metadata": {},
          "execution_count": 11
        }
      ]
    },
    {
      "cell_type": "markdown",
      "metadata": {
        "id": "--V16d7b6HJR"
      },
      "source": [
        "#### 문자"
      ]
    },
    {
      "cell_type": "code",
      "metadata": {
        "id": "-Q78O0BtuTpm"
      },
      "source": [
        "c = \"1234\""
      ],
      "execution_count": 12,
      "outputs": []
    },
    {
      "cell_type": "code",
      "metadata": {
        "colab": {
          "base_uri": "https://localhost:8080/"
        },
        "id": "quUrASAxuUvD",
        "outputId": "48eb56ae-3474-46ff-cda7-780cf64b31f9"
      },
      "source": [
        "type(c)"
      ],
      "execution_count": 13,
      "outputs": [
        {
          "output_type": "execute_result",
          "data": {
            "text/plain": [
              "str"
            ]
          },
          "metadata": {},
          "execution_count": 13
        }
      ]
    },
    {
      "cell_type": "code",
      "metadata": {
        "id": "fvxsHn-jEIA4"
      },
      "source": [
        "c = '1234'"
      ],
      "execution_count": 14,
      "outputs": []
    },
    {
      "cell_type": "code",
      "metadata": {
        "colab": {
          "base_uri": "https://localhost:8080/",
          "height": 35
        },
        "id": "3-TVLd7KEI9K",
        "outputId": "af76bbb9-a26f-452b-e1d6-797d4bf85db5"
      },
      "source": [
        "c = \"'1234'\"\n",
        "c"
      ],
      "execution_count": 16,
      "outputs": [
        {
          "output_type": "execute_result",
          "data": {
            "text/plain": [
              "\"'1234'\""
            ],
            "application/vnd.google.colaboratory.intrinsic+json": {
              "type": "string"
            }
          },
          "metadata": {},
          "execution_count": 16
        }
      ]
    },
    {
      "cell_type": "code",
      "metadata": {
        "colab": {
          "base_uri": "https://localhost:8080/",
          "height": 35
        },
        "id": "5zuxDxTLELdq",
        "outputId": "1c5eedab-e73a-4606-ef73-244488255e29"
      },
      "source": [
        "c = '\"123\"'\n",
        "c"
      ],
      "execution_count": 17,
      "outputs": [
        {
          "output_type": "execute_result",
          "data": {
            "text/plain": [
              "'\"123\"'"
            ],
            "application/vnd.google.colaboratory.intrinsic+json": {
              "type": "string"
            }
          },
          "metadata": {},
          "execution_count": 17
        }
      ]
    },
    {
      "cell_type": "code",
      "metadata": {
        "colab": {
          "base_uri": "https://localhost:8080/",
          "height": 131
        },
        "id": "0OhSZq3wEUyV",
        "outputId": "14cc5222-d2e8-4707-c548-f7783749877f"
      },
      "source": [
        "c = 'adfadsf\n",
        "adsfadsfadsf\n",
        "adfadsf'"
      ],
      "execution_count": null,
      "outputs": [
        {
          "output_type": "error",
          "ename": "SyntaxError",
          "evalue": "ignored",
          "traceback": [
            "\u001b[0;36m  File \u001b[0;32m\"<ipython-input-31-036499fe920b>\"\u001b[0;36m, line \u001b[0;32m1\u001b[0m\n\u001b[0;31m    c = 'adfadsf\u001b[0m\n\u001b[0m                ^\u001b[0m\n\u001b[0;31mSyntaxError\u001b[0m\u001b[0;31m:\u001b[0m EOL while scanning string literal\n"
          ]
        }
      ]
    },
    {
      "cell_type": "code",
      "metadata": {
        "colab": {
          "base_uri": "https://localhost:8080/",
          "height": 35
        },
        "id": "w6yYePH0EOmN",
        "outputId": "12edf032-ddf7-4f62-b6a7-70103528f416"
      },
      "source": [
        "# docstring\n",
        "c = '''akdfjlkdasf\n",
        "dflkadsjflk\n",
        "adsfkljadslfkjadlskf\n",
        "'''\n",
        "c"
      ],
      "execution_count": null,
      "outputs": [
        {
          "output_type": "execute_result",
          "data": {
            "application/vnd.google.colaboratory.intrinsic+json": {
              "type": "string"
            },
            "text/plain": [
              "'akdfjlkdasf\\ndflkadsjflk\\nadsfkljadslfkjadlskf\\n'"
            ]
          },
          "metadata": {},
          "execution_count": 32
        }
      ]
    },
    {
      "cell_type": "code",
      "metadata": {
        "colab": {
          "base_uri": "https://localhost:8080/"
        },
        "id": "Ir2e2nAGEZjE",
        "outputId": "8bc475ee-1bd1-4903-8858-2adff10e917f"
      },
      "source": [
        "# \\n 줄바꿈, \\t 탭문자\n",
        "a = 'adsfdsf\\ndfadsf'\n",
        "print(a)"
      ],
      "execution_count": null,
      "outputs": [
        {
          "output_type": "stream",
          "name": "stdout",
          "text": [
            "adsfdsf\n",
            "dfadsf\n"
          ]
        }
      ]
    },
    {
      "cell_type": "code",
      "metadata": {
        "id": "8IzEtpSLEg4o"
      },
      "source": [
        "a = 'adfadsf\\\\ndsfadsf'"
      ],
      "execution_count": 18,
      "outputs": []
    },
    {
      "cell_type": "markdown",
      "metadata": {
        "id": "w4Eu93Ev6Kb2"
      },
      "source": [
        "#### 불리언"
      ]
    },
    {
      "cell_type": "code",
      "metadata": {
        "id": "FbtnTaYDuVVY"
      },
      "source": [
        "d = True"
      ],
      "execution_count": 7,
      "outputs": []
    },
    {
      "cell_type": "code",
      "metadata": {
        "colab": {
          "base_uri": "https://localhost:8080/"
        },
        "id": "A33TwDWTudPC",
        "outputId": "2ba21808-38ec-4d10-d033-a506607b6c5b"
      },
      "source": [
        "print(d)"
      ],
      "execution_count": null,
      "outputs": [
        {
          "output_type": "stream",
          "name": "stdout",
          "text": [
            "True\n"
          ]
        }
      ]
    },
    {
      "cell_type": "code",
      "metadata": {
        "colab": {
          "base_uri": "https://localhost:8080/"
        },
        "id": "SS0qkH3XueMO",
        "outputId": "3d9829b2-3eb1-429c-fa08-a55c64e79833"
      },
      "source": [
        "type(d)"
      ],
      "execution_count": null,
      "outputs": [
        {
          "output_type": "execute_result",
          "data": {
            "text/plain": [
              "bool"
            ]
          },
          "metadata": {},
          "execution_count": 41
        }
      ]
    },
    {
      "cell_type": "code",
      "metadata": {
        "id": "ewDr5g-iyhMA",
        "colab": {
          "base_uri": "https://localhost:8080/"
        },
        "outputId": "850aeb3f-549a-4ba7-fac7-583a6bfca993"
      },
      "source": [
        "# 크다\n",
        "3 > 4"
      ],
      "execution_count": null,
      "outputs": [
        {
          "output_type": "execute_result",
          "data": {
            "text/plain": [
              "False"
            ]
          },
          "metadata": {},
          "execution_count": 42
        }
      ]
    },
    {
      "cell_type": "code",
      "metadata": {
        "colab": {
          "base_uri": "https://localhost:8080/"
        },
        "id": "AN0yDao-BC0o",
        "outputId": "6a656f9b-65da-46c4-ae7a-0663e65ec534"
      },
      "source": [
        "# 작거나 같다.\n",
        "3 <= 4"
      ],
      "execution_count": null,
      "outputs": [
        {
          "output_type": "execute_result",
          "data": {
            "text/plain": [
              "True"
            ]
          },
          "metadata": {},
          "execution_count": 43
        }
      ]
    },
    {
      "cell_type": "code",
      "metadata": {
        "colab": {
          "base_uri": "https://localhost:8080/",
          "height": 131
        },
        "id": "3jp3NGZ8BFQ6",
        "outputId": "a00d6b85-2b58-461c-faa6-945cdf4568ca"
      },
      "source": [
        "3 =< 4"
      ],
      "execution_count": null,
      "outputs": [
        {
          "output_type": "error",
          "ename": "SyntaxError",
          "evalue": "ignored",
          "traceback": [
            "\u001b[0;36m  File \u001b[0;32m\"<ipython-input-44-5d68d1b89a0e>\"\u001b[0;36m, line \u001b[0;32m1\u001b[0m\n\u001b[0;31m    3 =< 4\u001b[0m\n\u001b[0m       ^\u001b[0m\n\u001b[0;31mSyntaxError\u001b[0m\u001b[0;31m:\u001b[0m invalid syntax\n"
          ]
        }
      ]
    },
    {
      "cell_type": "code",
      "metadata": {
        "colab": {
          "base_uri": "https://localhost:8080/"
        },
        "id": "zyZKR1J0BG1t",
        "outputId": "d59c8b44-8726-4d59-83f8-3854d54032b3"
      },
      "source": [
        "# 같다\n",
        "'12' == '234'"
      ],
      "execution_count": null,
      "outputs": [
        {
          "output_type": "execute_result",
          "data": {
            "text/plain": [
              "False"
            ]
          },
          "metadata": {},
          "execution_count": 45
        }
      ]
    },
    {
      "cell_type": "code",
      "metadata": {
        "colab": {
          "base_uri": "https://localhost:8080/"
        },
        "id": "LI6V3KglBMNO",
        "outputId": "4ea69cf0-da68-4e0b-8579-3fb0e403d32e"
      },
      "source": [
        "# 같지 않다.\n",
        "'12' != '234'"
      ],
      "execution_count": null,
      "outputs": [
        {
          "output_type": "execute_result",
          "data": {
            "text/plain": [
              "True"
            ]
          },
          "metadata": {},
          "execution_count": 46
        }
      ]
    },
    {
      "cell_type": "code",
      "metadata": {
        "colab": {
          "base_uri": "https://localhost:8080/"
        },
        "id": "Vq_dqudHBPPA",
        "outputId": "c348c876-f0c0-4576-c0d2-22c6eb1cf9a3"
      },
      "source": [
        "# == 은 값 비교, is는 객체 비교\n",
        "1 == 1.0"
      ],
      "execution_count": null,
      "outputs": [
        {
          "output_type": "execute_result",
          "data": {
            "text/plain": [
              "True"
            ]
          },
          "metadata": {},
          "execution_count": 47
        }
      ]
    },
    {
      "cell_type": "code",
      "metadata": {
        "colab": {
          "base_uri": "https://localhost:8080/"
        },
        "id": "4eozqPz1Bfk3",
        "outputId": "390c71b7-502e-40db-bbd1-6c957588e912"
      },
      "source": [
        "1 is 1.0"
      ],
      "execution_count": null,
      "outputs": [
        {
          "output_type": "execute_result",
          "data": {
            "text/plain": [
              "False"
            ]
          },
          "metadata": {},
          "execution_count": 48
        }
      ]
    },
    {
      "cell_type": "code",
      "metadata": {
        "colab": {
          "base_uri": "https://localhost:8080/"
        },
        "id": "IuE8B0EMBgpa",
        "outputId": "a97f5f76-d796-466b-d5c6-3e5c28bfc69b"
      },
      "source": [
        "1 is not 1.0"
      ],
      "execution_count": null,
      "outputs": [
        {
          "output_type": "execute_result",
          "data": {
            "text/plain": [
              "True"
            ]
          },
          "metadata": {},
          "execution_count": 49
        }
      ]
    },
    {
      "cell_type": "markdown",
      "metadata": {
        "id": "xfTOxnlp-ZT4"
      },
      "source": [
        "##3. 변수에 값 넣기"
      ]
    },
    {
      "cell_type": "code",
      "metadata": {
        "id": "JUnw9YmX-y0Q"
      },
      "source": [
        "# 하나의 변수에 값 넣기\n",
        "a = 5"
      ],
      "execution_count": 2,
      "outputs": []
    },
    {
      "cell_type": "code",
      "metadata": {
        "id": "GQhl-5U7ufwT"
      },
      "source": [
        "# 여러 개 변수에 넣기\n",
        "a, b, c = 10, 15, 20"
      ],
      "execution_count": 3,
      "outputs": []
    },
    {
      "cell_type": "code",
      "metadata": {
        "colab": {
          "base_uri": "https://localhost:8080/"
        },
        "id": "_2ey3nJJviEq",
        "outputId": "6402728f-f26c-4966-e529-a774860efd2c"
      },
      "source": [
        "a"
      ],
      "execution_count": 4,
      "outputs": [
        {
          "output_type": "execute_result",
          "data": {
            "text/plain": [
              "10"
            ]
          },
          "metadata": {},
          "execution_count": 4
        }
      ]
    },
    {
      "cell_type": "code",
      "metadata": {
        "colab": {
          "base_uri": "https://localhost:8080/"
        },
        "id": "qPurHwezvjVm",
        "outputId": "d5fe88a3-9491-4727-c441-5b964b735721"
      },
      "source": [
        "b"
      ],
      "execution_count": 5,
      "outputs": [
        {
          "output_type": "execute_result",
          "data": {
            "text/plain": [
              "15"
            ]
          },
          "metadata": {},
          "execution_count": 5
        }
      ]
    },
    {
      "cell_type": "code",
      "metadata": {
        "colab": {
          "base_uri": "https://localhost:8080/"
        },
        "id": "feDISJGxvj-V",
        "outputId": "3b565ed1-63bd-4724-aa43-20863b9dcaae"
      },
      "source": [
        "c"
      ],
      "execution_count": 6,
      "outputs": [
        {
          "output_type": "execute_result",
          "data": {
            "text/plain": [
              "20"
            ]
          },
          "metadata": {},
          "execution_count": 6
        }
      ]
    },
    {
      "cell_type": "code",
      "metadata": {
        "id": "2tPoVZ3pvkix"
      },
      "source": [
        "# 두 변수의 값 바꾸기\n",
        "a, b = b, a"
      ],
      "execution_count": null,
      "outputs": []
    },
    {
      "cell_type": "code",
      "source": [
        "a"
      ],
      "metadata": {
        "colab": {
          "base_uri": "https://localhost:8080/"
        },
        "id": "9I0oto2Hrzdu",
        "outputId": "01ec8d19-10f9-44cc-8283-f0662ebd006a"
      },
      "execution_count": null,
      "outputs": [
        {
          "output_type": "execute_result",
          "data": {
            "text/plain": [
              "15"
            ]
          },
          "metadata": {},
          "execution_count": 56
        }
      ]
    },
    {
      "cell_type": "code",
      "source": [
        "b"
      ],
      "metadata": {
        "colab": {
          "base_uri": "https://localhost:8080/"
        },
        "id": "MYJ2zM8zr1XN",
        "outputId": "1d57751c-210d-47f6-ae82-5161d1d0a871"
      },
      "execution_count": null,
      "outputs": [
        {
          "output_type": "execute_result",
          "data": {
            "text/plain": [
              "10"
            ]
          },
          "metadata": {},
          "execution_count": 57
        }
      ]
    },
    {
      "cell_type": "markdown",
      "metadata": {
        "id": "0mp0oKxHwX1R"
      },
      "source": [
        "##4.   변수값 출력하기"
      ]
    },
    {
      "cell_type": "code",
      "metadata": {
        "colab": {
          "base_uri": "https://localhost:8080/"
        },
        "id": "wi76hAHjvv0b",
        "outputId": "d3a875b1-d915-4275-cfbd-588ae2a64c20"
      },
      "source": [
        "print(a)"
      ],
      "execution_count": null,
      "outputs": [
        {
          "output_type": "stream",
          "name": "stdout",
          "text": [
            "15\n"
          ]
        }
      ]
    },
    {
      "cell_type": "code",
      "metadata": {
        "colab": {
          "base_uri": "https://localhost:8080/"
        },
        "id": "SByV8-DpvwpM",
        "outputId": "dba45e7c-8ba3-4ed1-94f2-09b6fb26788d"
      },
      "source": [
        "print(b)"
      ],
      "execution_count": null,
      "outputs": [
        {
          "output_type": "stream",
          "name": "stdout",
          "text": [
            "10\n"
          ]
        }
      ]
    },
    {
      "cell_type": "code",
      "metadata": {
        "colab": {
          "base_uri": "https://localhost:8080/"
        },
        "id": "1DlqyOODwRgs",
        "outputId": "8d0b1f37-b4f0-41ff-81ba-fdb3f4a9994e"
      },
      "source": [
        "print(a, b,c )"
      ],
      "execution_count": null,
      "outputs": [
        {
          "output_type": "stream",
          "name": "stdout",
          "text": [
            "15 10 20\n"
          ]
        }
      ]
    },
    {
      "cell_type": "code",
      "metadata": {
        "colab": {
          "base_uri": "https://localhost:8080/"
        },
        "id": "yK6CQxQcwWTF",
        "outputId": "fe01eaa0-438a-4370-ac52-fd971d154bf0"
      },
      "source": [
        "print(a, b, c, sep=\"|\")"
      ],
      "execution_count": null,
      "outputs": [
        {
          "output_type": "stream",
          "name": "stdout",
          "text": [
            "15|10|20\n"
          ]
        }
      ]
    },
    {
      "cell_type": "code",
      "metadata": {
        "id": "H7t2bAxH_RdS"
      },
      "source": [
        "name = \"홍길동\""
      ],
      "execution_count": null,
      "outputs": []
    },
    {
      "cell_type": "code",
      "metadata": {
        "colab": {
          "base_uri": "https://localhost:8080/",
          "height": 172
        },
        "id": "89Y7wjB2_Tp-",
        "outputId": "ab9b4802-6580-4036-802a-9fb2196e146b"
      },
      "source": [
        "print('{}이 서울로 갔다.'.format(name))"
      ],
      "execution_count": 19,
      "outputs": [
        {
          "output_type": "error",
          "ename": "NameError",
          "evalue": "ignored",
          "traceback": [
            "\u001b[0;31m---------------------------------------------------------------------------\u001b[0m",
            "\u001b[0;31mNameError\u001b[0m                                 Traceback (most recent call last)",
            "\u001b[0;32m<ipython-input-19-a048b51b05fb>\u001b[0m in \u001b[0;36m<module>\u001b[0;34m()\u001b[0m\n\u001b[0;32m----> 1\u001b[0;31m \u001b[0mprint\u001b[0m\u001b[0;34m(\u001b[0m\u001b[0;34m'{}이 서울로 갔다.'\u001b[0m\u001b[0;34m.\u001b[0m\u001b[0mformat\u001b[0m\u001b[0;34m(\u001b[0m\u001b[0mname\u001b[0m\u001b[0;34m)\u001b[0m\u001b[0;34m)\u001b[0m\u001b[0;34m\u001b[0m\u001b[0;34m\u001b[0m\u001b[0m\n\u001b[0m",
            "\u001b[0;31mNameError\u001b[0m: name 'name' is not defined"
          ]
        }
      ]
    },
    {
      "cell_type": "code",
      "metadata": {
        "colab": {
          "base_uri": "https://localhost:8080/"
        },
        "id": "naDc4sN9_XNn",
        "outputId": "f1a67a88-5fd1-4ce9-c10f-c65ada8c6aa3"
      },
      "source": [
        "print(f'{name}이 서울로 갔다')"
      ],
      "execution_count": null,
      "outputs": [
        {
          "output_type": "stream",
          "name": "stdout",
          "text": [
            "홍길동이 서울로 갔다\n"
          ]
        }
      ]
    },
    {
      "cell_type": "markdown",
      "metadata": {
        "id": "BwLeK_Ae_4Qw"
      },
      "source": [
        "> 수소점 출력하기"
      ]
    },
    {
      "cell_type": "code",
      "metadata": {
        "id": "VZqt6H3D_eQA",
        "colab": {
          "base_uri": "https://localhost:8080/"
        },
        "outputId": "55d25a2d-77a7-4be8-caa1-21ecfc6cfa6f"
      },
      "source": [
        "a = 11.123123\n",
        "a"
      ],
      "execution_count": null,
      "outputs": [
        {
          "output_type": "execute_result",
          "data": {
            "text/plain": [
              "11.123123"
            ]
          },
          "metadata": {},
          "execution_count": 66
        }
      ]
    },
    {
      "cell_type": "code",
      "metadata": {
        "colab": {
          "base_uri": "https://localhost:8080/"
        },
        "id": "aDka1oAX_eTL",
        "outputId": "8d7ea432-fa79-4c68-ea93-7c7e58430ab3"
      },
      "source": [
        "print(f'a={a}')"
      ],
      "execution_count": null,
      "outputs": [
        {
          "output_type": "stream",
          "name": "stdout",
          "text": [
            "a=11.123123\n"
          ]
        }
      ]
    },
    {
      "cell_type": "code",
      "metadata": {
        "colab": {
          "base_uri": "https://localhost:8080/"
        },
        "id": "ZnAhDYJ1_eWB",
        "outputId": "b35eaf12-16f3-4fa3-f242-9a7b6cee967a"
      },
      "source": [
        "print(f'a={a:.3f}')"
      ],
      "execution_count": null,
      "outputs": [
        {
          "output_type": "stream",
          "name": "stdout",
          "text": [
            "a=11.123\n"
          ]
        }
      ]
    },
    {
      "cell_type": "markdown",
      "metadata": {
        "id": "suc5bn4mwAp-"
      },
      "source": [
        "##5. type 변환하기"
      ]
    },
    {
      "cell_type": "code",
      "metadata": {
        "colab": {
          "base_uri": "https://localhost:8080/"
        },
        "id": "wGLnp2HPvxbP",
        "outputId": "f244c361-407a-4e8c-a0b7-5de3963480e6"
      },
      "source": [
        "print(a)"
      ],
      "execution_count": null,
      "outputs": [
        {
          "output_type": "stream",
          "name": "stdout",
          "text": [
            "11.123123\n"
          ]
        }
      ]
    },
    {
      "cell_type": "code",
      "metadata": {
        "colab": {
          "base_uri": "https://localhost:8080/",
          "height": 35
        },
        "id": "X5ABlmAawEi_",
        "outputId": "829e89fa-307a-4c5c-9b06-b20f070948b9"
      },
      "source": [
        "str(a)"
      ],
      "execution_count": null,
      "outputs": [
        {
          "output_type": "execute_result",
          "data": {
            "application/vnd.google.colaboratory.intrinsic+json": {
              "type": "string"
            },
            "text/plain": [
              "'11.123123'"
            ]
          },
          "metadata": {},
          "execution_count": 70
        }
      ]
    },
    {
      "cell_type": "code",
      "metadata": {
        "id": "IKh04q3YwFbe"
      },
      "source": [
        "b = '30'"
      ],
      "execution_count": null,
      "outputs": []
    },
    {
      "cell_type": "code",
      "metadata": {
        "colab": {
          "base_uri": "https://localhost:8080/"
        },
        "id": "-aUVcknmwKGE",
        "outputId": "e3b3dfa9-cc6e-4789-87c6-5b84ca958484"
      },
      "source": [
        "int(b)"
      ],
      "execution_count": null,
      "outputs": [
        {
          "output_type": "execute_result",
          "data": {
            "text/plain": [
              "30"
            ]
          },
          "metadata": {},
          "execution_count": 72
        }
      ]
    },
    {
      "cell_type": "code",
      "metadata": {
        "colab": {
          "base_uri": "https://localhost:8080/"
        },
        "id": "0laIbgwiwKr9",
        "outputId": "ac7ea3b7-3658-4579-812f-bff1f690d723"
      },
      "source": [
        "float(b)"
      ],
      "execution_count": null,
      "outputs": [
        {
          "output_type": "execute_result",
          "data": {
            "text/plain": [
              "30.0"
            ]
          },
          "metadata": {},
          "execution_count": 73
        }
      ]
    },
    {
      "cell_type": "code",
      "metadata": {
        "colab": {
          "base_uri": "https://localhost:8080/"
        },
        "id": "nm0Ww_x_wLf4",
        "outputId": "b4121206-5c7a-4e84-b9a5-6c2b7b11ec0a"
      },
      "source": [
        "int(32.111)"
      ],
      "execution_count": null,
      "outputs": [
        {
          "output_type": "execute_result",
          "data": {
            "text/plain": [
              "32"
            ]
          },
          "metadata": {},
          "execution_count": 74
        }
      ]
    },
    {
      "cell_type": "code",
      "metadata": {
        "id": "_zvs_Wo4xj2H"
      },
      "source": [
        ""
      ],
      "execution_count": null,
      "outputs": []
    },
    {
      "cell_type": "markdown",
      "metadata": {
        "id": "r9gw01QBAFek"
      },
      "source": [
        ""
      ]
    }
  ]
}